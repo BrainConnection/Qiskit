{
  "nbformat": 4,
  "nbformat_minor": 0,
  "metadata": {
    "colab": {
      "provenance": [],
      "authorship_tag": "ABX9TyOD71YuLFO/qoQcP6uu+E4k",
      "include_colab_link": true
    },
    "kernelspec": {
      "name": "python3",
      "display_name": "Python 3"
    },
    "language_info": {
      "name": "python"
    }
  },
  "cells": [
    {
      "cell_type": "markdown",
      "metadata": {
        "id": "view-in-github",
        "colab_type": "text"
      },
      "source": [
        "<a href=\"https://colab.research.google.com/github/BrainConnection/Qiskit/blob/main/Project%20Quantum%20Challenge%202023/2.%20MNIST%20Image%20Classification/%232%20IBMQ%20QASM%20Simulator.ipynb\" target=\"_parent\"><img src=\"https://colab.research.google.com/assets/colab-badge.svg\" alt=\"Open In Colab\"/></a>"
      ]
    },
    {
      "cell_type": "markdown",
      "source": [
        "#Environment Setting\n"
      ],
      "metadata": {
        "id": "1U3jFPlPWK-O"
      }
    },
    {
      "cell_type": "code",
      "execution_count": null,
      "metadata": {
        "colab": {
          "base_uri": "https://localhost:8080/"
        },
        "id": "gAGHCufKV-ce",
        "outputId": "e93374c0-8bf8-4d8e-c745-da7f6a095fd8"
      },
      "outputs": [
        {
          "output_type": "stream",
          "name": "stdout",
          "text": [
            "Requirement already satisfied: qiskit in /usr/local/lib/python3.10/dist-packages (0.45.0)\n",
            "Requirement already satisfied: qiskit-terra==0.45.0 in /usr/local/lib/python3.10/dist-packages (from qiskit) (0.45.0)\n",
            "Requirement already satisfied: rustworkx>=0.13.0 in /usr/local/lib/python3.10/dist-packages (from qiskit-terra==0.45.0->qiskit) (0.13.2)\n",
            "Requirement already satisfied: numpy<2,>=1.17 in /usr/local/lib/python3.10/dist-packages (from qiskit-terra==0.45.0->qiskit) (1.23.5)\n",
            "Requirement already satisfied: ply>=3.10 in /usr/local/lib/python3.10/dist-packages (from qiskit-terra==0.45.0->qiskit) (3.11)\n",
            "Requirement already satisfied: psutil>=5 in /usr/local/lib/python3.10/dist-packages (from qiskit-terra==0.45.0->qiskit) (5.9.5)\n",
            "Requirement already satisfied: scipy>=1.5 in /usr/local/lib/python3.10/dist-packages (from qiskit-terra==0.45.0->qiskit) (1.11.3)\n",
            "Requirement already satisfied: sympy>=1.3 in /usr/local/lib/python3.10/dist-packages (from qiskit-terra==0.45.0->qiskit) (1.12)\n",
            "Requirement already satisfied: dill>=0.3 in /usr/local/lib/python3.10/dist-packages (from qiskit-terra==0.45.0->qiskit) (0.3.7)\n",
            "Requirement already satisfied: python-dateutil>=2.8.0 in /usr/local/lib/python3.10/dist-packages (from qiskit-terra==0.45.0->qiskit) (2.8.2)\n",
            "Requirement already satisfied: stevedore>=3.0.0 in /usr/local/lib/python3.10/dist-packages (from qiskit-terra==0.45.0->qiskit) (5.1.0)\n",
            "Requirement already satisfied: symengine<0.10,>=0.9 in /usr/local/lib/python3.10/dist-packages (from qiskit-terra==0.45.0->qiskit) (0.9.2)\n",
            "Requirement already satisfied: typing-extensions in /usr/local/lib/python3.10/dist-packages (from qiskit-terra==0.45.0->qiskit) (4.5.0)\n",
            "Requirement already satisfied: six>=1.5 in /usr/local/lib/python3.10/dist-packages (from python-dateutil>=2.8.0->qiskit-terra==0.45.0->qiskit) (1.16.0)\n",
            "Requirement already satisfied: pbr!=2.1.0,>=2.0.0 in /usr/local/lib/python3.10/dist-packages (from stevedore>=3.0.0->qiskit-terra==0.45.0->qiskit) (6.0.0)\n",
            "Requirement already satisfied: mpmath>=0.19 in /usr/local/lib/python3.10/dist-packages (from sympy>=1.3->qiskit-terra==0.45.0->qiskit) (1.3.0)\n"
          ]
        }
      ],
      "source": [
        "!pip install qiskit\n",
        "!pip install qiskit-ibm-runtime\n",
        "!pip install qiskit[visualization]\n",
        "!pip install matplotlib\n",
        "!pip install numpy"
      ]
    },
    {
      "cell_type": "code",
      "source": [
        "from qiskit_ibm_runtime import QiskitRuntimeService\n",
        "from qiskit_ibm_runtime import Sampler\n",
        "from qiskit.visualization import plot_histogram\n",
        "from matplotlib import pyplot as plt\n",
        "import numpy as np\n",
        "\n",
        "from qiskit.circuit import QuantumCircuit, QuantumRegister, ClassicalRegister\n",
        "from qiskit.circuit.library.standard_gates import C3XGate, SwapGate, RXGate, CXGate\n",
        "from qiskit.circuit.library import UnitaryGate"
      ],
      "metadata": {
        "id": "Lx8CbbKSWN9e"
      },
      "execution_count": null,
      "outputs": []
    },
    {
      "cell_type": "code",
      "source": [
        "# Save an IBM Quantum account and set it as your default account.\n",
        "QiskitRuntimeService.save_account(channel=\"ibm_quantum\",\n",
        "                                  token=\"067e5c82606f0a1157dd554e2087d6b7a9b823dbaa4ad47b95c3337eab2e6cd9361719cc0470f4a98d1631b73b264a82577012a0b8ff32963d5964e6cc12c525\",\n",
        "                                  set_as_default=True,\n",
        "                                  overwrite=True)"
      ],
      "metadata": {
        "id": "uCoZ9D7gWOZ0"
      },
      "execution_count": null,
      "outputs": []
    },
    {
      "cell_type": "code",
      "source": [
        "service = QiskitRuntimeService()\n",
        "backend = service.get_backend(\"ibmq_qasm_simulator\")\n",
        "\n",
        "sampler = Sampler(backend=backend)"
      ],
      "metadata": {
        "id": "Mbj0etYrWOOr"
      },
      "execution_count": null,
      "outputs": []
    },
    {
      "cell_type": "markdown",
      "source": [
        "#1. Product State Encoding to 8 Qubits"
      ],
      "metadata": {
        "id": "-eOEfP0YfSeS"
      }
    },
    {
      "cell_type": "markdown",
      "source": [
        "Encoding [1, 5, 2, 6, 3, 7, 4, 8] to 8 Qubits\n",
        "\n"
      ],
      "metadata": {
        "id": "4sMAwrsDjdR_"
      }
    },
    {
      "cell_type": "code",
      "source": [
        "# Initial Setting\n",
        "order = [0,1,2,3,4,5,6,7]\n",
        "vector = [1,5,2,6,3,7,4,8]\n",
        "norm = np.linalg.norm(vector)\n",
        "Probability_1_List = []\n",
        "\n",
        "# Circuit Setting\n",
        "Eight_Qubits_Quantum_Register = QuantumRegister(8, 'q')\n",
        "Eight_Qubits_Encoding = QuantumCircuit(Eight_Qubits_Quantum_Register)\n",
        "\n",
        "# Single Rotation Matrix Implement\n",
        "for j in range(8) :\n",
        "  Eight_Qubits_Encoding.rx(2*np.arcsin(np.sqrt(vector[j]/norm)), Eight_Qubits_Quantum_Register[j])\n",
        "\n",
        "# Circuit Drawing\n",
        "Eight_Qubits_Encoding.draw(\"mpl\")"
      ],
      "metadata": {
        "id": "aPmU3W3OfYVt"
      },
      "execution_count": null,
      "outputs": []
    },
    {
      "cell_type": "markdown",
      "source": [
        "Verifying Encoding : Measurement of Probabiltiy 1"
      ],
      "metadata": {
        "id": "8pY5UzKniqPi"
      }
    },
    {
      "cell_type": "code",
      "source": [
        "# Initial Setting\n",
        "order = [0,1,2,3,4,5,6,7]\n",
        "vector = [1,5,2,6,3,7,4,8]\n",
        "norm = np.linalg.norm(vector)\n",
        "Probability_1_List = []\n",
        "\n",
        "for i in range(8) :\n",
        "  # Circuit Setting\n",
        "  Eight_Qubits_Quantum_Register = QuantumRegister(8, 'q')\n",
        "  Eight_Qubits_Classical_Register = ClassicalRegister(8, 'c')\n",
        "  Eight_Qubits_Encoding = QuantumCircuit(Eight_Qubits_Quantum_Register, Eight_Qubits_Classical_Register)\n",
        "\n",
        "  # Single Rotation Matrix Implement\n",
        "  for j in range(8) :\n",
        "    Eight_Qubits_Encoding.rx(2*np.arcsin(np.sqrt(vector[j]/norm)), Eight_Qubits_Quantum_Register[j])\n",
        "\n",
        "  # Measurement on ith qubit\n",
        "  Eight_Qubits_Encoding.measure(Eight_Qubits_Quantum_Register[i], Eight_Qubits_Classical_Register[i])\n",
        "\n",
        "  # Probability of measuring 1 on ith qubit\n",
        "  job = sampler.run(Eight_Qubits_Encoding, shots=100000)\n",
        "  result = job.result()\n",
        "\n",
        "  counts = dict(result.quasi_dists[0])\n",
        "  Probability_1_List.append(norm*counts[np.power(2,i)])\n",
        "\n",
        "# Probabiltiy Bar Plot\n",
        "print(Probability_1_List)\n",
        "\n",
        "bar = plt.bar(order, Probability_1_List, 0.5)\n",
        "plt.xticks(order)\n",
        "for rect in bar:\n",
        "    height = rect.get_height()\n",
        "    plt.text(rect.get_x() + rect.get_width()/2.0, height, '%.2f' % height, ha='center', va='bottom', size = 12)\n",
        "plt.show()"
      ],
      "metadata": {
        "id": "thVAf-wtf1k4"
      },
      "execution_count": null,
      "outputs": []
    },
    {
      "cell_type": "markdown",
      "source": [
        "#2. Encoding to 3 Qubits"
      ],
      "metadata": {
        "id": "SzjxzjtCjDaf"
      }
    },
    {
      "cell_type": "markdown",
      "source": [
        "Encoding [1, 5, 2, 6, 3, 7, 4, 8] to 3 Qubits"
      ],
      "metadata": {
        "id": "WOMU4-t4qhvu"
      }
    },
    {
      "cell_type": "code",
      "source": [
        "# Matrix Setting\n",
        "vector1 = [1, 5, 2, 6, 3, 7, 4, 8]\n",
        "vector2 = [-5, 1, 0, 0, 0, 0, 0, 0]\n",
        "vector3 = [0, 0, -6, 2, 0, 0, 0, 0]\n",
        "vector4 = [0, 0, 0, 0, -7, 3, 0, 0]\n",
        "vector5 = [0, 0, 0, 0, 0, 0, -8, 4]\n",
        "vector6 = [-1, -5, 0, 0, 0, 0, 1.3, 2.6]\n",
        "vector7 = [10/53, 50/53, -1, -3, 0, 0, 40/53, 80/53]\n",
        "vector8 = [290/73, 1450/73, 580/73, 1740/73, -30, -70, 1160/73, 2320/73]\n",
        "\n",
        "v1 = []\n",
        "v2 = []\n",
        "v3 = []\n",
        "v4 = []\n",
        "v5 = []\n",
        "v6 = []\n",
        "v7 = []\n",
        "v8 = []\n",
        "for i in range(8):\n",
        "  v1.append(vector1[i]/np.linalg.norm(vector1))\n",
        "  v2.append(vector2[i]/np.linalg.norm(vector2))\n",
        "  v3.append(vector3[i]/np.linalg.norm(vector3))\n",
        "  v4.append(vector4[i]/np.linalg.norm(vector4))\n",
        "  v5.append(vector5[i]/np.linalg.norm(vector5))\n",
        "  v6.append(vector6[i]/np.linalg.norm(vector6))\n",
        "  v7.append(vector7[i]/np.linalg.norm(vector7))\n",
        "  v8.append(vector8[i]/np.linalg.norm(vector8))\n",
        "\n",
        "matrix = []\n",
        "print(v1)\n",
        "print(v2)\n",
        "print(v3)\n",
        "print(v4)\n",
        "print(v5)\n",
        "print(v6)\n",
        "print(v7)\n",
        "print(v8)\n",
        "for i in range(8):\n",
        "  matrix.append([v1[i], v2[i], v3[i], v4[i], v5[i], v6[i], v7[i], v8[i]])\n",
        "\n",
        "print(matrix)\n",
        "gate = UnitaryGate(matrix)\n",
        "\n",
        "# Circuit Setting\n",
        "Three_Qubits_Quantum_Register = QuantumRegister(3, 'q')\n",
        "Three_Qubits_Classical_Register = ClassicalRegister(3, 'c')\n",
        "Three_Qubits_Encoding = QuantumCircuit(Three_Qubits_Quantum_Register, Three_Qubits_Classical_Register)\n",
        "\n",
        "# Single Rotation Matrix Implement\n",
        "Three_Qubits_Encoding.append(gate, [0, 1, 2])\n",
        "Three_Qubits_Encoding.measure([0, 1, 2], [0, 1, 2])\n",
        "\n",
        "# Circuit Drawing\n",
        "Three_Qubits_Encoding.draw(\"mpl\")"
      ],
      "metadata": {
        "id": "YjnnIpNwmqBg"
      },
      "execution_count": null,
      "outputs": []
    },
    {
      "cell_type": "markdown",
      "source": [
        "Verifying Encoding : Measurement of Probability of Each State"
      ],
      "metadata": {
        "id": "9qRGBZ5SqnBJ"
      }
    },
    {
      "cell_type": "code",
      "source": [
        "# Circuit Running\n",
        "job = sampler.run(Three_Qubits_Encoding, shots=100000)\n",
        "print(f\">>> Job ID: {job.job_id()}\")\n",
        "print(f\">>> Job Status: {job.status()}\")\n",
        "\n",
        "result = job.result()\n",
        "print(f\">>> {result}\")\n",
        "print(f\"  > Quasi-probability distribution: {result.quasi_dists[0]}\")\n",
        "print(f\"  > Metadata: {result.metadata[0]}\")\n",
        "\n",
        "counts = dict(result.quasi_dists[0])\n",
        "plot_histogram(counts, sort='asc')"
      ],
      "metadata": {
        "id": "YiLMdHwBmquh"
      },
      "execution_count": null,
      "outputs": []
    },
    {
      "cell_type": "code",
      "source": [
        "Encoded_List = []\n",
        "for i in range(8):\n",
        "  Encoded_List.append(np.linalg.norm(vector1)*np.sqrt(counts[i]))\n",
        "\n",
        "# Probabiltiy Bar Plot\n",
        "print(Encoded_List)\n",
        "\n",
        "bar = plt.bar([0,1,2,3,4,5,6,7], Encoded_List, 0.5)\n",
        "plt.xticks([0,1,2,3,4,5,6,7])\n",
        "for rect in bar:\n",
        "    height = rect.get_height()\n",
        "    plt.text(rect.get_x() + rect.get_width()/2.0, height, '%.2f' % height, ha='center', va='bottom', size = 12)\n",
        "plt.show()"
      ],
      "metadata": {
        "id": "gVfmQfgamrDN"
      },
      "execution_count": null,
      "outputs": []
    },
    {
      "cell_type": "markdown",
      "source": [
        "#3. Enhanced Encoding Method"
      ],
      "metadata": {
        "id": "zbMW2zQe2wRm"
      }
    },
    {
      "cell_type": "markdown",
      "source": [
        "1) Task 1 VS Task 2\n",
        "\n",
        "Task 1\n",
        "\n",
        "Pros  : Only 8 single rotating gates. Low cost in gate number.\n",
        "\n",
        "Cons  : One-Hot encoding. 8 qubits are used. High cost in qubit number.\n",
        "\n",
        "Task2\n",
        "\n",
        "Pros  : Binary encoding. Only 3 qubits used for encoding. Low cost in qubit number.\n",
        "\n",
        "Cons  : too much gates to construct accurate unitary matrix whose probability of each state is equal to normalized vector's entry."
      ],
      "metadata": {
        "id": "gGFjECNl3Cwa"
      }
    },
    {
      "cell_type": "markdown",
      "source": [
        "2) Enhanced Encoding Method"
      ],
      "metadata": {
        "id": "LGkHoEIT3tfg"
      }
    },
    {
      "cell_type": "markdown",
      "source": [
        "Constructing Enhanced Encoding"
      ],
      "metadata": {
        "id": "Fy9_uqHQRGXM"
      }
    },
    {
      "cell_type": "code",
      "source": [
        "# Initial Setting\n",
        "order = [0,1,2,3,4,5,6,7]\n",
        "vector = [1,5,2,6,3,7,4,8]\n",
        "norm = np.linalg.norm(vector)\n",
        "\n",
        "# Circuit Setting\n",
        "Position_Qubits = QuantumRegister(3, 'p')\n",
        "Probability_Qubit = QuantumRegister(1, 's')\n",
        "Four_Qubits_Encoding = QuantumCircuit(Position_Qubits, Probability_Qubit)\n",
        "\n",
        "s = Probability_Qubit\n",
        "p0, p1, p2 = Position_Qubits\n",
        "\n",
        "# Initial State\n",
        "\n",
        "# Probability Qubit Rotating\n",
        "\n",
        "Rotate = QuantumCircuit(1)\n",
        "Rotate.rx(2*np.arcsin(np.sqrt(vector[0]/norm)), 0)\n",
        "Ugate = Rotate.to_gate().control(3)\n",
        "\n",
        "Four_Qubits_Encoding.x(p0)\n",
        "Four_Qubits_Encoding.x(p1)\n",
        "Four_Qubits_Encoding.x(p2)\n",
        "Four_Qubits_Encoding.append(Ugate, [p0, p1, p2, s])\n",
        "Four_Qubits_Encoding.x(p0)\n",
        "Four_Qubits_Encoding.x(p1)\n",
        "Four_Qubits_Encoding.x(p2)\n",
        "\n",
        "\n",
        "Rotate = QuantumCircuit(1)\n",
        "Rotate.rx(2*np.arcsin(np.sqrt(vector[1]/norm)), 0)\n",
        "Ugate = Rotate.to_gate().control(3)\n",
        "\n",
        "Four_Qubits_Encoding.x(p0)\n",
        "Four_Qubits_Encoding.x(p1)\n",
        "#Four_Qubits_Encoding.x(p2)\n",
        "Four_Qubits_Encoding.append(Ugate, [p0, p1, p2, s])\n",
        "Four_Qubits_Encoding.x(p0)\n",
        "Four_Qubits_Encoding.x(p1)\n",
        "#Four_Qubits_Encoding.x(p2)\n",
        "\n",
        "\n",
        "Rotate = QuantumCircuit(1)\n",
        "Rotate.rx(2*np.arcsin(np.sqrt(vector[2]/norm)), 0)\n",
        "Ugate = Rotate.to_gate().control(3)\n",
        "\n",
        "Four_Qubits_Encoding.x(p0)\n",
        "#Four_Qubits_Encoding.x(p1)\n",
        "Four_Qubits_Encoding.x(p2)\n",
        "Four_Qubits_Encoding.append(Ugate, [p0, p1, p2, s])\n",
        "Four_Qubits_Encoding.x(p0)\n",
        "#Four_Qubits_Encoding.x(p1)\n",
        "Four_Qubits_Encoding.x(p2)\n",
        "\n",
        "\n",
        "Rotate = QuantumCircuit(1)\n",
        "Rotate.rx(2*np.arcsin(np.sqrt(vector[3]/norm)), 0)\n",
        "Ugate = Rotate.to_gate().control(3)\n",
        "\n",
        "Four_Qubits_Encoding.x(p0)\n",
        "#Four_Qubits_Encoding.x(p1)\n",
        "#Four_Qubits_Encoding.x(p2)\n",
        "Four_Qubits_Encoding.append(Ugate, [p0, p1, p2, s])\n",
        "Four_Qubits_Encoding.x(p0)\n",
        "#Four_Qubits_Encoding.x(p1)\n",
        "#Four_Qubits_Encoding.x(p2)\n",
        "\n",
        "\n",
        "Rotate = QuantumCircuit(1)\n",
        "Rotate.rx(2*np.arcsin(np.sqrt(vector[4]/norm)), 0)\n",
        "Ugate = Rotate.to_gate().control(3)\n",
        "\n",
        "#Four_Qubits_Encoding.x(p0)\n",
        "Four_Qubits_Encoding.x(p1)\n",
        "Four_Qubits_Encoding.x(p2)\n",
        "Four_Qubits_Encoding.append(Ugate, [p0, p1, p2, s])\n",
        "#Four_Qubits_Encoding.x(p0)\n",
        "Four_Qubits_Encoding.x(p1)\n",
        "Four_Qubits_Encoding.x(p2)\n",
        "\n",
        "\n",
        "Rotate = QuantumCircuit(1)\n",
        "Rotate.rx(2*np.arcsin(np.sqrt(vector[5]/norm)), 0)\n",
        "Ugate = Rotate.to_gate().control(3)\n",
        "\n",
        "#Four_Qubits_Encoding.x(p0)\n",
        "Four_Qubits_Encoding.x(p1)\n",
        "#Four_Qubits_Encoding.x(p2)\n",
        "Four_Qubits_Encoding.append(Ugate, [p0, p1, p2, s])\n",
        "#Four_Qubits_Encoding.x(p0)\n",
        "Four_Qubits_Encoding.x(p1)\n",
        "#Four_Qubits_Encoding.x(p2)\n",
        "\n",
        "\n",
        "Rotate = QuantumCircuit(1)\n",
        "Rotate.rx(2*np.arcsin(np.sqrt(vector[6]/norm)), 0)\n",
        "Ugate = Rotate.to_gate().control(3)\n",
        "\n",
        "#Four_Qubits_Encoding.x(p0)\n",
        "#Four_Qubits_Encoding.x(p1)\n",
        "Four_Qubits_Encoding.x(p2)\n",
        "Four_Qubits_Encoding.append(Ugate, [p0, p1, p2, s])\n",
        "#Four_Qubits_Encoding.x(p0)\n",
        "#Four_Qubits_Encoding.x(p1)\n",
        "Four_Qubits_Encoding.x(p2)\n",
        "\n",
        "\n",
        "Rotate = QuantumCircuit(1)\n",
        "Rotate.rx(2*np.arcsin(np.sqrt(vector[7]/norm)), 0)\n",
        "Ugate = Rotate.to_gate().control(3)\n",
        "\n",
        "#Four_Qubits_Encoding.x(p0)\n",
        "#Four_Qubits_Encoding.x(p1)\n",
        "#Four_Qubits_Encoding.x(p2)\n",
        "Four_Qubits_Encoding.append(Ugate, [p0, p1, p2, s])\n",
        "#Four_Qubits_Encoding.x(p0)\n",
        "#Four_Qubits_Encoding.x(p1)\n",
        "#Four_Qubits_Encoding.x(p2)\n",
        "\n",
        "# Circuit Drawing\n",
        "Four_Qubits_Encoding.draw(\"mpl\")"
      ],
      "metadata": {
        "id": "sXnnrfOK2117"
      },
      "execution_count": null,
      "outputs": []
    },
    {
      "cell_type": "markdown",
      "source": [
        "From State 000 ~ 111, Verifying Encoding : Probability X Norm is equal to each vector entry [1, 5, 2, 6, 3, 7, 4, 8]"
      ],
      "metadata": {
        "id": "WlYQ6JrCRMVT"
      }
    },
    {
      "cell_type": "code",
      "source": [
        "Decoded_Vector = []\n",
        "Encoding = Four_Qubits_Encoding.to_gate()"
      ],
      "metadata": {
        "id": "G0dvdJbZL64f"
      },
      "execution_count": null,
      "outputs": []
    },
    {
      "cell_type": "code",
      "source": [
        "# Circuit Setting\n",
        "Position_Qubits = QuantumRegister(3, 'p')\n",
        "Probability_Qubit = QuantumRegister(1, 's')\n",
        "Classical_Qubit = ClassicalRegister(4, 'c')\n",
        "Four_Qubits_Measuring = QuantumCircuit(Position_Qubits, Probability_Qubit, Classical_Qubit)\n",
        "\n",
        "\n",
        "# Produce Superposition State\n",
        "Four_Qubits_Measuring.h(p0)\n",
        "Four_Qubits_Measuring.h(p1)\n",
        "Four_Qubits_Measuring.h(p2)\n",
        "Four_Qubits_Measuring.append(Encoding, [0,1,2,3])\n",
        "Four_Qubits_Measuring.measure([0,1,2,3], [3,2,1,0])\n",
        "\n",
        "Four_Qubits_Measuring.draw(\"mpl\")"
      ],
      "metadata": {
        "id": "ipSOKr3VL0bI"
      },
      "execution_count": null,
      "outputs": []
    },
    {
      "cell_type": "code",
      "source": [
        "job = sampler.run(Four_Qubits_Measuring, shots=100000)\n",
        "print(f\">>> Job ID: {job.job_id()}\")\n",
        "print(f\">>> Job Status: {job.status()}\")\n",
        "\n",
        "result = job.result()\n",
        "print(f\">>> {result}\")\n",
        "print(f\"  > Quasi-probability distribution: {result.quasi_dists[0]}\")\n",
        "print(f\"  > Metadata: {result.metadata[0]}\")\n",
        "\n",
        "cnts = dict(result.quasi_dists[0])\n",
        "plot_histogram(cnts, sort='asc')"
      ],
      "metadata": {
        "id": "wB3dpR3SZk7-"
      },
      "execution_count": null,
      "outputs": []
    },
    {
      "cell_type": "code",
      "source": [
        "for i in range(8):\n",
        "  Decoded_Vector.append(8*norm*cnts[2*i+1])\n",
        "print(Decoded_Vector)\n",
        "\n",
        "bar = plt.bar([0,1,2,3,4,5,6,7], Decoded_Vector, 0.5)\n",
        "plt.xticks([0,1,2,3,4,5,6,7])\n",
        "for rect in bar:\n",
        "    height = rect.get_height()\n",
        "    plt.text(rect.get_x() + rect.get_width()/2.0, height, '%.2f' % height, ha='center', va='bottom', size = 12)\n",
        "plt.show()"
      ],
      "metadata": {
        "id": "1xxCx5ORaBlL"
      },
      "execution_count": null,
      "outputs": []
    },
    {
      "cell_type": "markdown",
      "source": [
        "#4. Encoding 3 X 3 Image"
      ],
      "metadata": {
        "id": "p1t9mAXEdnsM"
      }
    },
    {
      "cell_type": "code",
      "source": [
        "# adding dummy pixels to make 4 X 4. Each row and columns 2 qubits.\n",
        "matrix = [[0, 0.5, 0, 0],\n",
        "          [0.8, 1, 0.8, 0],\n",
        "          [0, 0.5, 0, 0],\n",
        "          [0, 0, 0, 0]]\n",
        "\n",
        "# Circuit Setting\n",
        "Y_Qubits = QuantumRegister(2, 'y')\n",
        "X_Qubits = QuantumRegister(2, 'x')\n",
        "Probability_Qubit = QuantumRegister(1, 's')\n",
        "Classical_Register = ClassicalRegister(5, 'c')\n",
        "Five_Qubits_Encoding = QuantumCircuit(Y_Qubits, X_Qubits, Probability_Qubit, Classical_Register)\n",
        "\n",
        "s = Probability_Qubit\n",
        "y0, y1 = Y_Qubits\n",
        "x0, x1 = X_Qubits\n",
        "\n",
        "# Initial State\n",
        "Five_Qubits_Encoding.h(y0)\n",
        "Five_Qubits_Encoding.h(y1)\n",
        "Five_Qubits_Encoding.h(x0)\n",
        "Five_Qubits_Encoding.h(x1)\n",
        "\n",
        "# Probability Qubit Rotating\n",
        "for i in range(4):\n",
        "  for j in range(4):\n",
        "    Rotate = QuantumCircuit(1)\n",
        "    Rotate.rx(2*np.arcsin(np.sqrt(matrix[i][j])), 0)\n",
        "    Ugate = Rotate.to_gate().control(4)\n",
        "\n",
        "    if i==0:\n",
        "      Five_Qubits_Encoding.x(y0)\n",
        "      Five_Qubits_Encoding.x(y1)\n",
        "    elif i==1:\n",
        "      Five_Qubits_Encoding.x(y0)\n",
        "    elif i==2:\n",
        "      Five_Qubits_Encoding.x(y1)\n",
        "    else:\n",
        "      pass\n",
        "\n",
        "    if j==0:\n",
        "      Five_Qubits_Encoding.x(x0)\n",
        "      Five_Qubits_Encoding.x(x1)\n",
        "    elif j==1:\n",
        "      Five_Qubits_Encoding.x(x0)\n",
        "    elif j==2:\n",
        "      Five_Qubits_Encoding.x(x1)\n",
        "    else:\n",
        "      pass\n",
        "\n",
        "    Five_Qubits_Encoding.append(Ugate, [y0, y1, x0, x1, s])\n",
        "\n",
        "    if i==0:\n",
        "      Five_Qubits_Encoding.x(y0)\n",
        "      Five_Qubits_Encoding.x(y1)\n",
        "    elif i==1:\n",
        "      Five_Qubits_Encoding.x(y0)\n",
        "    elif i==2:\n",
        "      Five_Qubits_Encoding.x(y1)\n",
        "    else:\n",
        "      pass\n",
        "\n",
        "    if j==0:\n",
        "      Five_Qubits_Encoding.x(x0)\n",
        "      Five_Qubits_Encoding.x(x1)\n",
        "    elif j==1:\n",
        "      Five_Qubits_Encoding.x(x0)\n",
        "    elif j==2:\n",
        "      Five_Qubits_Encoding.x(x1)\n",
        "    else:\n",
        "      pass\n",
        "\n",
        "Five_Qubits_Encoding.measure([0,1,2,3,4], [4,3,2,1,0])\n",
        "\n",
        "# Circuit Drawing\n",
        "Five_Qubits_Encoding.draw(\"mpl\")"
      ],
      "metadata": {
        "id": "jrTo2YARdsbt"
      },
      "execution_count": null,
      "outputs": []
    },
    {
      "cell_type": "code",
      "source": [
        "job = sampler.run(Five_Qubits_Encoding, shots=100000)\n",
        "print(f\">>> Job ID: {job.job_id()}\")\n",
        "print(f\">>> Job Status: {job.status()}\")\n",
        "\n",
        "result = job.result()\n",
        "print(f\">>> {result}\")\n",
        "print(f\"  > Quasi-probability distribution: {result.quasi_dists[0]}\")\n",
        "print(f\"  > Metadata: {result.metadata[0]}\")\n",
        "\n",
        "cnts = dict(result.quasi_dists[0])\n",
        "plot_histogram(cnts, sort='asc')"
      ],
      "metadata": {
        "id": "ZbU6AOQRi_v2"
      },
      "execution_count": null,
      "outputs": []
    },
    {
      "cell_type": "code",
      "source": [
        "# Store Decoded Matrix except for dummy entry\n",
        "Decoded_Matrix = []\n",
        "for i in range(16):\n",
        "  if i%4==3:\n",
        "    pass\n",
        "  elif i>10:\n",
        "    pass\n",
        "  elif cnts.get(2*i+1)==None:\n",
        "    Decoded_Matrix.append(0)\n",
        "  else:\n",
        "    Decoded_Matrix.append(16*cnts.get(2*i+1))\n",
        "print(Decoded_Matrix)\n",
        "\n",
        "bar = plt.bar([0,1,2,3,4,5,6,7,8], Decoded_Matrix, 0.5)\n",
        "plt.xticks([0,1,2,3,4,5,6,7,8])\n",
        "for rect in bar:\n",
        "    height = rect.get_height()\n",
        "    plt.text(rect.get_x() + rect.get_width()/2.0, height, '%.2f' % height, ha='center', va='bottom', size = 12)\n",
        "plt.show()"
      ],
      "metadata": {
        "id": "xNL-qG7-jaSW"
      },
      "execution_count": null,
      "outputs": []
    },
    {
      "cell_type": "markdown",
      "source": [
        "#Image Setting"
      ],
      "metadata": {
        "id": "2Z2Pvk2A06Bf"
      }
    },
    {
      "cell_type": "code",
      "source": [
        "from google.colab import drive\n",
        "drive.mount('/content/drive')\n",
        "images_test = np.load('images_test_100.npy')\n",
        "labels_test = np.load('labels_test_100.npy')"
      ],
      "metadata": {
        "id": "q74BmMVd081q"
      },
      "execution_count": null,
      "outputs": []
    },
    {
      "cell_type": "code",
      "source": [
        "print(images_test[0])\n",
        "print(images_test[1])\n",
        "print(images_test[2])\n",
        "print(images_test[3])\n",
        "print(images_test[4])"
      ],
      "metadata": {
        "id": "7cQiz6lT5eWP"
      },
      "execution_count": null,
      "outputs": []
    },
    {
      "cell_type": "markdown",
      "source": [
        "#5. Encoding 28 X 28 Image"
      ],
      "metadata": {
        "id": "zI54u7kB5vvZ"
      }
    },
    {
      "cell_type": "markdown",
      "source": [
        "1) Adding Dummy Entries to make 32 X 32"
      ],
      "metadata": {
        "id": "CyAb2XjD6Sn2"
      }
    },
    {
      "cell_type": "code",
      "source": [
        "# adding dummy pixels to make 32 X 32. Each row and columns 5 qubits.\n",
        "test = images_test[0]\n",
        "max = np.max(test)\n",
        "matrix = []\n",
        "for i in range(28):\n",
        "  row = []\n",
        "  for j in range(28):\n",
        "    row.append(test[i][j]/max)\n",
        "  row.append(0)\n",
        "  row.append(0)\n",
        "  row.append(0)\n",
        "  row.append(0)\n",
        "  matrix.append(row)\n",
        "\n",
        "matrix.append([0,0,0,0,0,0,0,0,0,0,0,0,0,0,0,0,0,0,0,0,0,0,0,0,0,0,0,0,0,0,0,0])\n",
        "matrix.append([0,0,0,0,0,0,0,0,0,0,0,0,0,0,0,0,0,0,0,0,0,0,0,0,0,0,0,0,0,0,0,0])\n",
        "matrix.append([0,0,0,0,0,0,0,0,0,0,0,0,0,0,0,0,0,0,0,0,0,0,0,0,0,0,0,0,0,0,0,0])\n",
        "matrix.append([0,0,0,0,0,0,0,0,0,0,0,0,0,0,0,0,0,0,0,0,0,0,0,0,0,0,0,0,0,0,0,0])\n",
        "\n",
        "print(matrix)"
      ],
      "metadata": {
        "id": "P_hSceBS6CR9"
      },
      "execution_count": null,
      "outputs": []
    },
    {
      "cell_type": "markdown",
      "source": [
        "2) Encode to 11 Qubits"
      ],
      "metadata": {
        "id": "cTRXogosPENu"
      }
    },
    {
      "cell_type": "code",
      "source": [
        "# Circuit Setting\n",
        "Y_Qubits = QuantumRegister(5, 'y')\n",
        "X_Qubits = QuantumRegister(5, 'x')\n",
        "Probability_Qubit = QuantumRegister(1, 's')\n",
        "Classical_Register = ClassicalRegister(11, 'c')\n",
        "Eleven_Qubits_Encoding = QuantumCircuit(Y_Qubits, X_Qubits, Probability_Qubit, Classical_Register)\n",
        "\n",
        "s = Probability_Qubit\n",
        "y0, y1, y2, y3, y4 = Y_Qubits\n",
        "x0, x1, x2, x3, x4 = X_Qubits\n",
        "\n",
        "# Initial State\n",
        "Eleven_Qubits_Encoding.h(y0)\n",
        "Eleven_Qubits_Encoding.h(y1)\n",
        "Eleven_Qubits_Encoding.h(y2)\n",
        "Eleven_Qubits_Encoding.h(y3)\n",
        "Eleven_Qubits_Encoding.h(y4)\n",
        "Eleven_Qubits_Encoding.h(x0)\n",
        "Eleven_Qubits_Encoding.h(x1)\n",
        "Eleven_Qubits_Encoding.h(x2)\n",
        "Eleven_Qubits_Encoding.h(x3)\n",
        "Eleven_Qubits_Encoding.h(x4)\n",
        "\n",
        "def Binary(i):\n",
        "  num = []\n",
        "  num.append(i%2)\n",
        "  i = i//2\n",
        "  num.append(i%2)\n",
        "  i = i//2\n",
        "  num.append(i%2)\n",
        "  i = i//2\n",
        "  num.append(i%2)\n",
        "  i = i//2\n",
        "  num.append(i%2)\n",
        "\n",
        "  rot = []\n",
        "  for j in range(5):\n",
        "    rot.append(1-num[4-j])\n",
        "\n",
        "  return rot\n",
        "\n",
        "\n",
        "def Y_Not(lst):\n",
        "  if lst[0]:\n",
        "    Eleven_Qubits_Encoding.x(y0)\n",
        "  if lst[1]:\n",
        "    Eleven_Qubits_Encoding.x(y1)\n",
        "  if lst[2]:\n",
        "    Eleven_Qubits_Encoding.x(y2)\n",
        "  if lst[3]:\n",
        "    Eleven_Qubits_Encoding.x(y3)\n",
        "  if lst[4]:\n",
        "    Eleven_Qubits_Encoding.x(y4)\n",
        "\n",
        "\n",
        "def X_Not(lst):\n",
        "  if lst[0]:\n",
        "    Eleven_Qubits_Encoding.x(x0)\n",
        "  if lst[1]:\n",
        "    Eleven_Qubits_Encoding.x(x1)\n",
        "  if lst[2]:\n",
        "    Eleven_Qubits_Encoding.x(x2)\n",
        "  if lst[3]:\n",
        "    Eleven_Qubits_Encoding.x(x3)\n",
        "  if lst[4]:\n",
        "    Eleven_Qubits_Encoding.x(x4)\n",
        "\n",
        "\n",
        "# Probability Qubit Rotating\n",
        "for i in range(32):\n",
        "  for j in range(32):\n",
        "    Rotate = QuantumCircuit(1)\n",
        "    Rotate.rx(2*np.arcsin(np.sqrt(matrix[i][j])), 0)\n",
        "    Ugate = Rotate.to_gate().control(10)\n",
        "\n",
        "    y_rot = Binary(i)\n",
        "    x_rot = Binary(j)\n",
        "\n",
        "    Y_Not(y_rot)\n",
        "    X_Not(x_rot)\n",
        "    Eleven_Qubits_Encoding.append(Ugate, [y0, y1, y2, y3, y4, x0, x1, x2, x3, x4, s])\n",
        "    Y_Not(y_rot)\n",
        "    X_Not(x_rot)\n",
        "\n",
        "\n",
        "Eleven_Qubits_Encoding.measure([0,1,2,3,4,5,6,7,8,9,10], [10,9,8,7,6,5,4,3,2,1,0])"
      ],
      "metadata": {
        "id": "bRFVRYkw5sPH"
      },
      "execution_count": null,
      "outputs": []
    },
    {
      "cell_type": "markdown",
      "source": [
        "3) Recover Image"
      ],
      "metadata": {
        "id": "7ytHk_47SCSY"
      }
    },
    {
      "cell_type": "code",
      "source": [
        "job = sampler.run(Eleven_Qubits_Encoding, shots=1000000)\n",
        "result = job.result()\n",
        "cnts = dict(result.quasi_dists[0])\n",
        "\n",
        "# Store Decoded Matrix except for dummy entry\n",
        "Decoded_Matrix = np.zeros((28,28))\n",
        "Decoded_Vector = []\n",
        "for i in range(1024):\n",
        "  if cnts.get(2*i+1)==None:\n",
        "    Decoded_Vector.append(0)\n",
        "  else:\n",
        "    Decoded_Vector.append(1024*max*cnts.get(2*i+1))\n",
        "\n",
        "for i in range(32):\n",
        "  for j in range(32):\n",
        "    if j>27 or i>27:\n",
        "      pass\n",
        "    else:\n",
        "      Decoded_Matrix[i][j] = Decoded_Vector[i*32+j]\n",
        "\n",
        "print(Decoded_Matrix)"
      ],
      "metadata": {
        "id": "Jji_iagS5sKa"
      },
      "execution_count": null,
      "outputs": []
    },
    {
      "cell_type": "markdown",
      "source": [
        "4) Original Image"
      ],
      "metadata": {
        "id": "UzwCykagRXKY"
      }
    },
    {
      "cell_type": "code",
      "source": [
        "plt.imshow(test, interpolation='nearest')\n",
        "plt.show()"
      ],
      "metadata": {
        "id": "nIdsPrL1RTxK"
      },
      "execution_count": null,
      "outputs": []
    },
    {
      "cell_type": "markdown",
      "source": [
        "5) Recovered Image"
      ],
      "metadata": {
        "id": "bnmQJ3uIRZs4"
      }
    },
    {
      "cell_type": "code",
      "source": [
        "plt.imshow(Decoded_Matrix, interpolation='nearest')\n",
        "plt.show()"
      ],
      "metadata": {
        "id": "Pk_DNXypRTka"
      },
      "execution_count": null,
      "outputs": []
    },
    {
      "cell_type": "markdown",
      "source": [
        "#6. QPU HW Encoding"
      ],
      "metadata": {
        "id": "yGSLyLEEPRZB"
      }
    },
    {
      "cell_type": "markdown",
      "source": [
        "1) Image_Test[0]"
      ],
      "metadata": {
        "id": "w4hQt5o_Phzk"
      }
    },
    {
      "cell_type": "code",
      "source": [
        "# adding dummy pixels to make 32 X 32. Each row and columns 5 qubits.\n",
        "test = images_test[0]\n",
        "max = np.max(test)\n",
        "matrix = []\n",
        "for i in range(28):\n",
        "  row = []\n",
        "  for j in range(28):\n",
        "    row.append(test[i][j]/max)\n",
        "  row.append(0)\n",
        "  row.append(0)\n",
        "  row.append(0)\n",
        "  row.append(0)\n",
        "  matrix.append(row)\n",
        "\n",
        "matrix.append([0,0,0,0,0,0,0,0,0,0,0,0,0,0,0,0,0,0,0,0,0,0,0,0,0,0,0,0,0,0,0,0])\n",
        "matrix.append([0,0,0,0,0,0,0,0,0,0,0,0,0,0,0,0,0,0,0,0,0,0,0,0,0,0,0,0,0,0,0,0])\n",
        "matrix.append([0,0,0,0,0,0,0,0,0,0,0,0,0,0,0,0,0,0,0,0,0,0,0,0,0,0,0,0,0,0,0,0])\n",
        "matrix.append([0,0,0,0,0,0,0,0,0,0,0,0,0,0,0,0,0,0,0,0,0,0,0,0,0,0,0,0,0,0,0,0])\n",
        "\n",
        "print(matrix)"
      ],
      "metadata": {
        "id": "axf0JDy-PgI0"
      },
      "execution_count": null,
      "outputs": []
    },
    {
      "cell_type": "code",
      "source": [
        "# Circuit Setting\n",
        "Y_Qubits = QuantumRegister(5, 'y')\n",
        "X_Qubits = QuantumRegister(5, 'x')\n",
        "Probability_Qubit = QuantumRegister(1, 's')\n",
        "Classical_Register = ClassicalRegister(11, 'c')\n",
        "Eleven_Qubits_Encoding = QuantumCircuit(Y_Qubits, X_Qubits, Probability_Qubit, Classical_Register)\n",
        "\n",
        "s = Probability_Qubit\n",
        "y0, y1, y2, y3, y4 = Y_Qubits\n",
        "x0, x1, x2, x3, x4 = X_Qubits\n",
        "\n",
        "# Initial State\n",
        "Eleven_Qubits_Encoding.h(y0)\n",
        "Eleven_Qubits_Encoding.h(y1)\n",
        "Eleven_Qubits_Encoding.h(y2)\n",
        "Eleven_Qubits_Encoding.h(y3)\n",
        "Eleven_Qubits_Encoding.h(y4)\n",
        "Eleven_Qubits_Encoding.h(x0)\n",
        "Eleven_Qubits_Encoding.h(x1)\n",
        "Eleven_Qubits_Encoding.h(x2)\n",
        "Eleven_Qubits_Encoding.h(x3)\n",
        "Eleven_Qubits_Encoding.h(x4)\n",
        "\n",
        "def Binary(i):\n",
        "  num = []\n",
        "  num.append(i%2)\n",
        "  i = i//2\n",
        "  num.append(i%2)\n",
        "  i = i//2\n",
        "  num.append(i%2)\n",
        "  i = i//2\n",
        "  num.append(i%2)\n",
        "  i = i//2\n",
        "  num.append(i%2)\n",
        "\n",
        "  rot = []\n",
        "  for j in range(5):\n",
        "    rot.append(1-num[4-j])\n",
        "\n",
        "  return rot\n",
        "\n",
        "\n",
        "def Y_Not(lst):\n",
        "  if lst[0]:\n",
        "    Eleven_Qubits_Encoding.x(y0)\n",
        "  if lst[1]:\n",
        "    Eleven_Qubits_Encoding.x(y1)\n",
        "  if lst[2]:\n",
        "    Eleven_Qubits_Encoding.x(y2)\n",
        "  if lst[3]:\n",
        "    Eleven_Qubits_Encoding.x(y3)\n",
        "  if lst[4]:\n",
        "    Eleven_Qubits_Encoding.x(y4)\n",
        "\n",
        "\n",
        "def X_Not(lst):\n",
        "  if lst[0]:\n",
        "    Eleven_Qubits_Encoding.x(x0)\n",
        "  if lst[1]:\n",
        "    Eleven_Qubits_Encoding.x(x1)\n",
        "  if lst[2]:\n",
        "    Eleven_Qubits_Encoding.x(x2)\n",
        "  if lst[3]:\n",
        "    Eleven_Qubits_Encoding.x(x3)\n",
        "  if lst[4]:\n",
        "    Eleven_Qubits_Encoding.x(x4)\n",
        "\n",
        "\n",
        "# Probability Qubit Rotating\n",
        "for i in range(32):\n",
        "  print(i)\n",
        "  for j in range(32):\n",
        "    Rotate = QuantumCircuit(1)\n",
        "    Rotate.rx(2*np.arcsin(np.sqrt(matrix[i][j])), 0)\n",
        "    Ugate = Rotate.to_gate().control(10)\n",
        "\n",
        "    y_rot = Binary(i)\n",
        "    x_rot = Binary(j)\n",
        "\n",
        "    Y_Not(y_rot)\n",
        "    X_Not(x_rot)\n",
        "    Eleven_Qubits_Encoding.append(Ugate, [y0, y1, y2, y3, y4, x0, x1, x2, x3, x4, s])\n",
        "    Y_Not(y_rot)\n",
        "    X_Not(x_rot)\n",
        "\n",
        "\n",
        "Eleven_Qubits_Encoding.measure([0,1,2,3,4,5,6,7,8,9,10], [10,9,8,7,6,5,4,3,2,1,0])"
      ],
      "metadata": {
        "id": "hNmAR4-oP8wG"
      },
      "execution_count": null,
      "outputs": []
    },
    {
      "cell_type": "code",
      "source": [
        "job = sampler.run(Eleven_Qubits_Encoding, shots=1000000)\n",
        "result = job.result()\n",
        "cnts = dict(result.quasi_dists[0])\n",
        "\n",
        "# Store Decoded Matrix except for dummy entry\n",
        "Decoded_Matrix = np.zeros((28,28))\n",
        "Decoded_Vector = []\n",
        "for i in range(1024):\n",
        "  if cnts.get(2*i+1)==None:\n",
        "    Decoded_Vector.append(0)\n",
        "  else:\n",
        "    Decoded_Vector.append(1024*max*cnts.get(2*i+1))\n",
        "\n",
        "for i in range(32):\n",
        "  for j in range(32):\n",
        "    if j>27 or i>27:\n",
        "      pass\n",
        "    else:\n",
        "      Decoded_Matrix[i][j] = Decoded_Vector[i*32+j]\n",
        "\n",
        "print(Decoded_Matrix)"
      ],
      "metadata": {
        "id": "npqaa7itP8mp"
      },
      "execution_count": null,
      "outputs": []
    },
    {
      "cell_type": "code",
      "source": [
        "# Original Image\n",
        "plt.imshow(test, interpolation='nearest')\n",
        "plt.show()"
      ],
      "metadata": {
        "id": "YmucUR2SSjvp"
      },
      "execution_count": null,
      "outputs": []
    },
    {
      "cell_type": "code",
      "source": [
        "# Recovered Image\n",
        "plt.imshow(Decoded_Matrix, interpolation='nearest')\n",
        "plt.show()"
      ],
      "metadata": {
        "id": "QlPibPQnSjn6"
      },
      "execution_count": null,
      "outputs": []
    },
    {
      "cell_type": "markdown",
      "source": [
        "2) Image_Test[1]"
      ],
      "metadata": {
        "id": "rmPn9C-nPmdJ"
      }
    },
    {
      "cell_type": "code",
      "source": [
        "# adding dummy pixels to make 32 X 32. Each row and columns 5 qubits.\n",
        "test = images_test[1]\n",
        "max = np.max(test)\n",
        "matrix = []\n",
        "for i in range(28):\n",
        "  row = []\n",
        "  for j in range(28):\n",
        "    row.append(test[i][j]/max)\n",
        "  row.append(0)\n",
        "  row.append(0)\n",
        "  row.append(0)\n",
        "  row.append(0)\n",
        "  matrix.append(row)\n",
        "\n",
        "matrix.append([0,0,0,0,0,0,0,0,0,0,0,0,0,0,0,0,0,0,0,0,0,0,0,0,0,0,0,0,0,0,0,0])\n",
        "matrix.append([0,0,0,0,0,0,0,0,0,0,0,0,0,0,0,0,0,0,0,0,0,0,0,0,0,0,0,0,0,0,0,0])\n",
        "matrix.append([0,0,0,0,0,0,0,0,0,0,0,0,0,0,0,0,0,0,0,0,0,0,0,0,0,0,0,0,0,0,0,0])\n",
        "matrix.append([0,0,0,0,0,0,0,0,0,0,0,0,0,0,0,0,0,0,0,0,0,0,0,0,0,0,0,0,0,0,0,0])\n",
        "\n",
        "print(matrix)"
      ],
      "metadata": {
        "id": "Z27LOvCePgt8"
      },
      "execution_count": null,
      "outputs": []
    },
    {
      "cell_type": "code",
      "source": [
        "# Circuit Setting\n",
        "Y_Qubits = QuantumRegister(5, 'y')\n",
        "X_Qubits = QuantumRegister(5, 'x')\n",
        "Probability_Qubit = QuantumRegister(1, 's')\n",
        "Classical_Register = ClassicalRegister(11, 'c')\n",
        "Eleven_Qubits_Encoding = QuantumCircuit(Y_Qubits, X_Qubits, Probability_Qubit, Classical_Register)\n",
        "\n",
        "s = Probability_Qubit\n",
        "y0, y1, y2, y3, y4 = Y_Qubits\n",
        "x0, x1, x2, x3, x4 = X_Qubits\n",
        "\n",
        "# Initial State\n",
        "Eleven_Qubits_Encoding.h(y0)\n",
        "Eleven_Qubits_Encoding.h(y1)\n",
        "Eleven_Qubits_Encoding.h(y2)\n",
        "Eleven_Qubits_Encoding.h(y3)\n",
        "Eleven_Qubits_Encoding.h(y4)\n",
        "Eleven_Qubits_Encoding.h(x0)\n",
        "Eleven_Qubits_Encoding.h(x1)\n",
        "Eleven_Qubits_Encoding.h(x2)\n",
        "Eleven_Qubits_Encoding.h(x3)\n",
        "Eleven_Qubits_Encoding.h(x4)\n",
        "\n",
        "def Binary(i):\n",
        "  num = []\n",
        "  num.append(i%2)\n",
        "  i = i//2\n",
        "  num.append(i%2)\n",
        "  i = i//2\n",
        "  num.append(i%2)\n",
        "  i = i//2\n",
        "  num.append(i%2)\n",
        "  i = i//2\n",
        "  num.append(i%2)\n",
        "\n",
        "  rot = []\n",
        "  for j in range(5):\n",
        "    rot.append(1-num[4-j])\n",
        "\n",
        "  return rot\n",
        "\n",
        "\n",
        "def Y_Not(lst):\n",
        "  if lst[0]:\n",
        "    Eleven_Qubits_Encoding.x(y0)\n",
        "  if lst[1]:\n",
        "    Eleven_Qubits_Encoding.x(y1)\n",
        "  if lst[2]:\n",
        "    Eleven_Qubits_Encoding.x(y2)\n",
        "  if lst[3]:\n",
        "    Eleven_Qubits_Encoding.x(y3)\n",
        "  if lst[4]:\n",
        "    Eleven_Qubits_Encoding.x(y4)\n",
        "\n",
        "\n",
        "def X_Not(lst):\n",
        "  if lst[0]:\n",
        "    Eleven_Qubits_Encoding.x(x0)\n",
        "  if lst[1]:\n",
        "    Eleven_Qubits_Encoding.x(x1)\n",
        "  if lst[2]:\n",
        "    Eleven_Qubits_Encoding.x(x2)\n",
        "  if lst[3]:\n",
        "    Eleven_Qubits_Encoding.x(x3)\n",
        "  if lst[4]:\n",
        "    Eleven_Qubits_Encoding.x(x4)\n",
        "\n",
        "\n",
        "# Probability Qubit Rotating\n",
        "for i in range(32):\n",
        "  print(i)\n",
        "  for j in range(32):\n",
        "    Rotate = QuantumCircuit(1)\n",
        "    Rotate.rx(2*np.arcsin(np.sqrt(matrix[i][j])), 0)\n",
        "    Ugate = Rotate.to_gate().control(10)\n",
        "\n",
        "    y_rot = Binary(i)\n",
        "    x_rot = Binary(j)\n",
        "\n",
        "    Y_Not(y_rot)\n",
        "    X_Not(x_rot)\n",
        "    Eleven_Qubits_Encoding.append(Ugate, [y0, y1, y2, y3, y4, x0, x1, x2, x3, x4, s])\n",
        "    Y_Not(y_rot)\n",
        "    X_Not(x_rot)\n",
        "\n",
        "\n",
        "Eleven_Qubits_Encoding.measure([0,1,2,3,4,5,6,7,8,9,10], [10,9,8,7,6,5,4,3,2,1,0])"
      ],
      "metadata": {
        "id": "mS7WlgD9S-w7"
      },
      "execution_count": null,
      "outputs": []
    },
    {
      "cell_type": "code",
      "source": [
        "job = sampler.run(Eleven_Qubits_Encoding, shots=1000000)\n",
        "result = job.result()\n",
        "cnts = dict(result.quasi_dists[0])\n",
        "\n",
        "# Store Decoded Matrix except for dummy entry\n",
        "Decoded_Matrix = np.zeros((28,28))\n",
        "Decoded_Vector = []\n",
        "for i in range(1024):\n",
        "  if cnts.get(2*i+1)==None:\n",
        "    Decoded_Vector.append(0)\n",
        "  else:\n",
        "    Decoded_Vector.append(1024*max*cnts.get(2*i+1))\n",
        "\n",
        "for i in range(32):\n",
        "  for j in range(32):\n",
        "    if j>27 or i>27:\n",
        "      pass\n",
        "    else:\n",
        "      Decoded_Matrix[i][j] = Decoded_Vector[i*32+j]\n",
        "\n",
        "print(Decoded_Matrix)"
      ],
      "metadata": {
        "id": "mQroSCPeS-nG"
      },
      "execution_count": null,
      "outputs": []
    },
    {
      "cell_type": "code",
      "source": [
        "# Original Image\n",
        "plt.imshow(test, interpolation='nearest')\n",
        "plt.show()"
      ],
      "metadata": {
        "id": "UJLOyqfLS-YD"
      },
      "execution_count": null,
      "outputs": []
    },
    {
      "cell_type": "code",
      "source": [
        "# Recovered Image\n",
        "plt.imshow(Decoded_Matrix, interpolation='nearest')\n",
        "plt.show()"
      ],
      "metadata": {
        "id": "-vSe0-7mS9wM"
      },
      "execution_count": null,
      "outputs": []
    },
    {
      "cell_type": "markdown",
      "source": [
        "3) Image_Test[2]"
      ],
      "metadata": {
        "id": "O8b9HU4vPoaF"
      }
    },
    {
      "cell_type": "code",
      "source": [
        "# adding dummy pixels to make 32 X 32. Each row and columns 5 qubits.\n",
        "test = images_test[2]\n",
        "max = np.max(test)\n",
        "matrix = []\n",
        "for i in range(28):\n",
        "  row = []\n",
        "  for j in range(28):\n",
        "    row.append(test[i][j]/max)\n",
        "  row.append(0)\n",
        "  row.append(0)\n",
        "  row.append(0)\n",
        "  row.append(0)\n",
        "  matrix.append(row)\n",
        "\n",
        "matrix.append([0,0,0,0,0,0,0,0,0,0,0,0,0,0,0,0,0,0,0,0,0,0,0,0,0,0,0,0,0,0,0,0])\n",
        "matrix.append([0,0,0,0,0,0,0,0,0,0,0,0,0,0,0,0,0,0,0,0,0,0,0,0,0,0,0,0,0,0,0,0])\n",
        "matrix.append([0,0,0,0,0,0,0,0,0,0,0,0,0,0,0,0,0,0,0,0,0,0,0,0,0,0,0,0,0,0,0,0])\n",
        "matrix.append([0,0,0,0,0,0,0,0,0,0,0,0,0,0,0,0,0,0,0,0,0,0,0,0,0,0,0,0,0,0,0,0])\n",
        "\n",
        "print(matrix)"
      ],
      "metadata": {
        "id": "I2Y_9__vPhDm"
      },
      "execution_count": null,
      "outputs": []
    },
    {
      "cell_type": "code",
      "source": [
        "# Circuit Setting\n",
        "Y_Qubits = QuantumRegister(5, 'y')\n",
        "X_Qubits = QuantumRegister(5, 'x')\n",
        "Probability_Qubit = QuantumRegister(1, 's')\n",
        "Classical_Register = ClassicalRegister(11, 'c')\n",
        "Eleven_Qubits_Encoding = QuantumCircuit(Y_Qubits, X_Qubits, Probability_Qubit, Classical_Register)\n",
        "\n",
        "s = Probability_Qubit\n",
        "y0, y1, y2, y3, y4 = Y_Qubits\n",
        "x0, x1, x2, x3, x4 = X_Qubits\n",
        "\n",
        "# Initial State\n",
        "Eleven_Qubits_Encoding.h(y0)\n",
        "Eleven_Qubits_Encoding.h(y1)\n",
        "Eleven_Qubits_Encoding.h(y2)\n",
        "Eleven_Qubits_Encoding.h(y3)\n",
        "Eleven_Qubits_Encoding.h(y4)\n",
        "Eleven_Qubits_Encoding.h(x0)\n",
        "Eleven_Qubits_Encoding.h(x1)\n",
        "Eleven_Qubits_Encoding.h(x2)\n",
        "Eleven_Qubits_Encoding.h(x3)\n",
        "Eleven_Qubits_Encoding.h(x4)\n",
        "\n",
        "def Binary(i):\n",
        "  num = []\n",
        "  num.append(i%2)\n",
        "  i = i//2\n",
        "  num.append(i%2)\n",
        "  i = i//2\n",
        "  num.append(i%2)\n",
        "  i = i//2\n",
        "  num.append(i%2)\n",
        "  i = i//2\n",
        "  num.append(i%2)\n",
        "\n",
        "  rot = []\n",
        "  for j in range(5):\n",
        "    rot.append(1-num[4-j])\n",
        "\n",
        "  return rot\n",
        "\n",
        "\n",
        "def Y_Not(lst):\n",
        "  if lst[0]:\n",
        "    Eleven_Qubits_Encoding.x(y0)\n",
        "  if lst[1]:\n",
        "    Eleven_Qubits_Encoding.x(y1)\n",
        "  if lst[2]:\n",
        "    Eleven_Qubits_Encoding.x(y2)\n",
        "  if lst[3]:\n",
        "    Eleven_Qubits_Encoding.x(y3)\n",
        "  if lst[4]:\n",
        "    Eleven_Qubits_Encoding.x(y4)\n",
        "\n",
        "\n",
        "def X_Not(lst):\n",
        "  if lst[0]:\n",
        "    Eleven_Qubits_Encoding.x(x0)\n",
        "  if lst[1]:\n",
        "    Eleven_Qubits_Encoding.x(x1)\n",
        "  if lst[2]:\n",
        "    Eleven_Qubits_Encoding.x(x2)\n",
        "  if lst[3]:\n",
        "    Eleven_Qubits_Encoding.x(x3)\n",
        "  if lst[4]:\n",
        "    Eleven_Qubits_Encoding.x(x4)\n",
        "\n",
        "\n",
        "# Probability Qubit Rotating\n",
        "for i in range(32):\n",
        "  print(i)\n",
        "  for j in range(32):\n",
        "    Rotate = QuantumCircuit(1)\n",
        "    Rotate.rx(2*np.arcsin(np.sqrt(matrix[i][j])), 0)\n",
        "    Ugate = Rotate.to_gate().control(10)\n",
        "\n",
        "    y_rot = Binary(i)\n",
        "    x_rot = Binary(j)\n",
        "\n",
        "    Y_Not(y_rot)\n",
        "    X_Not(x_rot)\n",
        "    Eleven_Qubits_Encoding.append(Ugate, [y0, y1, y2, y3, y4, x0, x1, x2, x3, x4, s])\n",
        "    Y_Not(y_rot)\n",
        "    X_Not(x_rot)\n",
        "\n",
        "\n",
        "Eleven_Qubits_Encoding.measure([0,1,2,3,4,5,6,7,8,9,10], [10,9,8,7,6,5,4,3,2,1,0])"
      ],
      "metadata": {
        "id": "CFrRbaMjTAfF"
      },
      "execution_count": null,
      "outputs": []
    },
    {
      "cell_type": "code",
      "source": [
        "job = sampler.run(Eleven_Qubits_Encoding, shots=1000000)\n",
        "result = job.result()\n",
        "cnts = dict(result.quasi_dists[0])\n",
        "\n",
        "# Store Decoded Matrix except for dummy entry\n",
        "Decoded_Matrix = np.zeros((28,28))\n",
        "Decoded_Vector = []\n",
        "for i in range(1024):\n",
        "  if cnts.get(2*i+1)==None:\n",
        "    Decoded_Vector.append(0)\n",
        "  else:\n",
        "    Decoded_Vector.append(1024*max*cnts.get(2*i+1))\n",
        "\n",
        "for i in range(32):\n",
        "  for j in range(32):\n",
        "    if j>27 or i>27:\n",
        "      pass\n",
        "    else:\n",
        "      Decoded_Matrix[i][j] = Decoded_Vector[i*32+j]\n",
        "\n",
        "print(Decoded_Matrix)"
      ],
      "metadata": {
        "id": "pG-DEk9RTAbW"
      },
      "execution_count": null,
      "outputs": []
    },
    {
      "cell_type": "code",
      "source": [
        "# Original Image\n",
        "plt.imshow(test, interpolation='nearest')\n",
        "plt.show()"
      ],
      "metadata": {
        "id": "bx_R03s5TAXL"
      },
      "execution_count": null,
      "outputs": []
    },
    {
      "cell_type": "code",
      "source": [
        "# Recovered Image\n",
        "plt.imshow(Decoded_Matrix, interpolation='nearest')\n",
        "plt.show()"
      ],
      "metadata": {
        "id": "lwXvXgxgTAR-"
      },
      "execution_count": null,
      "outputs": []
    },
    {
      "cell_type": "markdown",
      "source": [
        "4) Image_Test[3]"
      ],
      "metadata": {
        "id": "fqXq7eMcPp2O"
      }
    },
    {
      "cell_type": "code",
      "source": [
        "# adding dummy pixels to make 32 X 32. Each row and columns 5 qubits.\n",
        "test = images_test[3]\n",
        "max = np.max(test)\n",
        "matrix = []\n",
        "for i in range(28):\n",
        "  row = []\n",
        "  for j in range(28):\n",
        "    row.append(test[i][j]/max)\n",
        "  row.append(0)\n",
        "  row.append(0)\n",
        "  row.append(0)\n",
        "  row.append(0)\n",
        "  matrix.append(row)\n",
        "\n",
        "matrix.append([0,0,0,0,0,0,0,0,0,0,0,0,0,0,0,0,0,0,0,0,0,0,0,0,0,0,0,0,0,0,0,0])\n",
        "matrix.append([0,0,0,0,0,0,0,0,0,0,0,0,0,0,0,0,0,0,0,0,0,0,0,0,0,0,0,0,0,0,0,0])\n",
        "matrix.append([0,0,0,0,0,0,0,0,0,0,0,0,0,0,0,0,0,0,0,0,0,0,0,0,0,0,0,0,0,0,0,0])\n",
        "matrix.append([0,0,0,0,0,0,0,0,0,0,0,0,0,0,0,0,0,0,0,0,0,0,0,0,0,0,0,0,0,0,0,0])\n",
        "\n",
        "print(matrix)"
      ],
      "metadata": {
        "id": "Ctei7_E6Pte8"
      },
      "execution_count": null,
      "outputs": []
    },
    {
      "cell_type": "code",
      "source": [
        "# Circuit Setting\n",
        "Y_Qubits = QuantumRegister(5, 'y')\n",
        "X_Qubits = QuantumRegister(5, 'x')\n",
        "Probability_Qubit = QuantumRegister(1, 's')\n",
        "Classical_Register = ClassicalRegister(11, 'c')\n",
        "Eleven_Qubits_Encoding = QuantumCircuit(Y_Qubits, X_Qubits, Probability_Qubit, Classical_Register)\n",
        "\n",
        "s = Probability_Qubit\n",
        "y0, y1, y2, y3, y4 = Y_Qubits\n",
        "x0, x1, x2, x3, x4 = X_Qubits\n",
        "\n",
        "# Initial State\n",
        "Eleven_Qubits_Encoding.h(y0)\n",
        "Eleven_Qubits_Encoding.h(y1)\n",
        "Eleven_Qubits_Encoding.h(y2)\n",
        "Eleven_Qubits_Encoding.h(y3)\n",
        "Eleven_Qubits_Encoding.h(y4)\n",
        "Eleven_Qubits_Encoding.h(x0)\n",
        "Eleven_Qubits_Encoding.h(x1)\n",
        "Eleven_Qubits_Encoding.h(x2)\n",
        "Eleven_Qubits_Encoding.h(x3)\n",
        "Eleven_Qubits_Encoding.h(x4)\n",
        "\n",
        "def Binary(i):\n",
        "  num = []\n",
        "  num.append(i%2)\n",
        "  i = i//2\n",
        "  num.append(i%2)\n",
        "  i = i//2\n",
        "  num.append(i%2)\n",
        "  i = i//2\n",
        "  num.append(i%2)\n",
        "  i = i//2\n",
        "  num.append(i%2)\n",
        "\n",
        "  rot = []\n",
        "  for j in range(5):\n",
        "    rot.append(1-num[4-j])\n",
        "\n",
        "  return rot\n",
        "\n",
        "\n",
        "def Y_Not(lst):\n",
        "  if lst[0]:\n",
        "    Eleven_Qubits_Encoding.x(y0)\n",
        "  if lst[1]:\n",
        "    Eleven_Qubits_Encoding.x(y1)\n",
        "  if lst[2]:\n",
        "    Eleven_Qubits_Encoding.x(y2)\n",
        "  if lst[3]:\n",
        "    Eleven_Qubits_Encoding.x(y3)\n",
        "  if lst[4]:\n",
        "    Eleven_Qubits_Encoding.x(y4)\n",
        "\n",
        "\n",
        "def X_Not(lst):\n",
        "  if lst[0]:\n",
        "    Eleven_Qubits_Encoding.x(x0)\n",
        "  if lst[1]:\n",
        "    Eleven_Qubits_Encoding.x(x1)\n",
        "  if lst[2]:\n",
        "    Eleven_Qubits_Encoding.x(x2)\n",
        "  if lst[3]:\n",
        "    Eleven_Qubits_Encoding.x(x3)\n",
        "  if lst[4]:\n",
        "    Eleven_Qubits_Encoding.x(x4)\n",
        "\n",
        "\n",
        "# Probability Qubit Rotating\n",
        "for i in range(32):\n",
        "  print(i)\n",
        "  for j in range(32):\n",
        "    Rotate = QuantumCircuit(1)\n",
        "    Rotate.rx(2*np.arcsin(np.sqrt(matrix[i][j])), 0)\n",
        "    Ugate = Rotate.to_gate().control(10)\n",
        "\n",
        "    y_rot = Binary(i)\n",
        "    x_rot = Binary(j)\n",
        "\n",
        "    Y_Not(y_rot)\n",
        "    X_Not(x_rot)\n",
        "    Eleven_Qubits_Encoding.append(Ugate, [y0, y1, y2, y3, y4, x0, x1, x2, x3, x4, s])\n",
        "    Y_Not(y_rot)\n",
        "    X_Not(x_rot)\n",
        "\n",
        "\n",
        "Eleven_Qubits_Encoding.measure([0,1,2,3,4,5,6,7,8,9,10], [10,9,8,7,6,5,4,3,2,1,0])"
      ],
      "metadata": {
        "id": "yBenHh6oTBVi"
      },
      "execution_count": null,
      "outputs": []
    },
    {
      "cell_type": "code",
      "source": [
        "job = sampler.run(Eleven_Qubits_Encoding, shots=1000000)\n",
        "result = job.result()\n",
        "cnts = dict(result.quasi_dists[0])\n",
        "\n",
        "# Store Decoded Matrix except for dummy entry\n",
        "Decoded_Matrix = np.zeros((28,28))\n",
        "Decoded_Vector = []\n",
        "for i in range(1024):\n",
        "  if cnts.get(2*i+1)==None:\n",
        "    Decoded_Vector.append(0)\n",
        "  else:\n",
        "    Decoded_Vector.append(1024*max*cnts.get(2*i+1))\n",
        "\n",
        "for i in range(32):\n",
        "  for j in range(32):\n",
        "    if j>27 or i>27:\n",
        "      pass\n",
        "    else:\n",
        "      Decoded_Matrix[i][j] = Decoded_Vector[i*32+j]\n",
        "\n",
        "print(Decoded_Matrix)"
      ],
      "metadata": {
        "id": "L54u_iUWTBRG"
      },
      "execution_count": null,
      "outputs": []
    },
    {
      "cell_type": "code",
      "source": [
        "# Original Image\n",
        "plt.imshow(test, interpolation='nearest')\n",
        "plt.show()"
      ],
      "metadata": {
        "id": "P8R5RWhmTBLl"
      },
      "execution_count": null,
      "outputs": []
    },
    {
      "cell_type": "code",
      "source": [
        "# Recovered Image\n",
        "plt.imshow(Decoded_Matrix, interpolation='nearest')\n",
        "plt.show()"
      ],
      "metadata": {
        "id": "3F-hFx6dTBFM"
      },
      "execution_count": null,
      "outputs": []
    },
    {
      "cell_type": "markdown",
      "source": [
        "5) Image_Test[4]"
      ],
      "metadata": {
        "id": "8BFeHfGKPrvG"
      }
    },
    {
      "cell_type": "code",
      "source": [
        "# adding dummy pixels to make 32 X 32. Each row and columns 5 qubits.\n",
        "test = images_test[4]\n",
        "max = np.max(test)\n",
        "matrix = []\n",
        "for i in range(28):\n",
        "  row = []\n",
        "  for j in range(28):\n",
        "    row.append(test[i][j]/max)\n",
        "  row.append(0)\n",
        "  row.append(0)\n",
        "  row.append(0)\n",
        "  row.append(0)\n",
        "  matrix.append(row)\n",
        "\n",
        "matrix.append([0,0,0,0,0,0,0,0,0,0,0,0,0,0,0,0,0,0,0,0,0,0,0,0,0,0,0,0,0,0,0,0])\n",
        "matrix.append([0,0,0,0,0,0,0,0,0,0,0,0,0,0,0,0,0,0,0,0,0,0,0,0,0,0,0,0,0,0,0,0])\n",
        "matrix.append([0,0,0,0,0,0,0,0,0,0,0,0,0,0,0,0,0,0,0,0,0,0,0,0,0,0,0,0,0,0,0,0])\n",
        "matrix.append([0,0,0,0,0,0,0,0,0,0,0,0,0,0,0,0,0,0,0,0,0,0,0,0,0,0,0,0,0,0,0,0])\n",
        "\n",
        "print(matrix)"
      ],
      "metadata": {
        "id": "1K-uMjk0PtIm"
      },
      "execution_count": null,
      "outputs": []
    },
    {
      "cell_type": "code",
      "source": [
        "# Circuit Setting\n",
        "Y_Qubits = QuantumRegister(5, 'y')\n",
        "X_Qubits = QuantumRegister(5, 'x')\n",
        "Probability_Qubit = QuantumRegister(1, 's')\n",
        "Classical_Register = ClassicalRegister(11, 'c')\n",
        "Eleven_Qubits_Encoding = QuantumCircuit(Y_Qubits, X_Qubits, Probability_Qubit, Classical_Register)\n",
        "\n",
        "s = Probability_Qubit\n",
        "y0, y1, y2, y3, y4 = Y_Qubits\n",
        "x0, x1, x2, x3, x4 = X_Qubits\n",
        "\n",
        "# Initial State\n",
        "Eleven_Qubits_Encoding.h(y0)\n",
        "Eleven_Qubits_Encoding.h(y1)\n",
        "Eleven_Qubits_Encoding.h(y2)\n",
        "Eleven_Qubits_Encoding.h(y3)\n",
        "Eleven_Qubits_Encoding.h(y4)\n",
        "Eleven_Qubits_Encoding.h(x0)\n",
        "Eleven_Qubits_Encoding.h(x1)\n",
        "Eleven_Qubits_Encoding.h(x2)\n",
        "Eleven_Qubits_Encoding.h(x3)\n",
        "Eleven_Qubits_Encoding.h(x4)\n",
        "\n",
        "def Binary(i):\n",
        "  num = []\n",
        "  num.append(i%2)\n",
        "  i = i//2\n",
        "  num.append(i%2)\n",
        "  i = i//2\n",
        "  num.append(i%2)\n",
        "  i = i//2\n",
        "  num.append(i%2)\n",
        "  i = i//2\n",
        "  num.append(i%2)\n",
        "\n",
        "  rot = []\n",
        "  for j in range(5):\n",
        "    rot.append(1-num[4-j])\n",
        "\n",
        "  return rot\n",
        "\n",
        "\n",
        "def Y_Not(lst):\n",
        "  if lst[0]:\n",
        "    Eleven_Qubits_Encoding.x(y0)\n",
        "  if lst[1]:\n",
        "    Eleven_Qubits_Encoding.x(y1)\n",
        "  if lst[2]:\n",
        "    Eleven_Qubits_Encoding.x(y2)\n",
        "  if lst[3]:\n",
        "    Eleven_Qubits_Encoding.x(y3)\n",
        "  if lst[4]:\n",
        "    Eleven_Qubits_Encoding.x(y4)\n",
        "\n",
        "\n",
        "def X_Not(lst):\n",
        "  if lst[0]:\n",
        "    Eleven_Qubits_Encoding.x(x0)\n",
        "  if lst[1]:\n",
        "    Eleven_Qubits_Encoding.x(x1)\n",
        "  if lst[2]:\n",
        "    Eleven_Qubits_Encoding.x(x2)\n",
        "  if lst[3]:\n",
        "    Eleven_Qubits_Encoding.x(x3)\n",
        "  if lst[4]:\n",
        "    Eleven_Qubits_Encoding.x(x4)\n",
        "\n",
        "\n",
        "# Probability Qubit Rotating\n",
        "for i in range(32):\n",
        "  print(i)\n",
        "  for j in range(32):\n",
        "    Rotate = QuantumCircuit(1)\n",
        "    Rotate.rx(2*np.arcsin(np.sqrt(matrix[i][j])), 0)\n",
        "    Ugate = Rotate.to_gate().control(10)\n",
        "\n",
        "    y_rot = Binary(i)\n",
        "    x_rot = Binary(j)\n",
        "\n",
        "    Y_Not(y_rot)\n",
        "    X_Not(x_rot)\n",
        "    Eleven_Qubits_Encoding.append(Ugate, [y0, y1, y2, y3, y4, x0, x1, x2, x3, x4, s])\n",
        "    Y_Not(y_rot)\n",
        "    X_Not(x_rot)\n",
        "\n",
        "\n",
        "Eleven_Qubits_Encoding.measure([0,1,2,3,4,5,6,7,8,9,10], [10,9,8,7,6,5,4,3,2,1,0])"
      ],
      "metadata": {
        "id": "zdkmh6VhTCH7"
      },
      "execution_count": null,
      "outputs": []
    },
    {
      "cell_type": "code",
      "source": [
        "job = sampler.run(Eleven_Qubits_Encoding, shots=1000000)\n",
        "result = job.result()\n",
        "cnts = dict(result.quasi_dists[0])\n",
        "\n",
        "# Store Decoded Matrix except for dummy entry\n",
        "Decoded_Matrix = np.zeros((28,28))\n",
        "Decoded_Vector = []\n",
        "for i in range(1024):\n",
        "  if cnts.get(2*i+1)==None:\n",
        "    Decoded_Vector.append(0)\n",
        "  else:\n",
        "    Decoded_Vector.append(1024*max*cnts.get(2*i+1))\n",
        "\n",
        "for i in range(32):\n",
        "  for j in range(32):\n",
        "    if j>27 or i>27:\n",
        "      pass\n",
        "    else:\n",
        "      Decoded_Matrix[i][j] = Decoded_Vector[i*32+j]\n",
        "\n",
        "print(Decoded_Matrix)"
      ],
      "metadata": {
        "id": "QNgP1Xm5TCDT"
      },
      "execution_count": null,
      "outputs": []
    },
    {
      "cell_type": "code",
      "source": [
        "# Original Image\n",
        "plt.imshow(test, interpolation='nearest')\n",
        "plt.show()"
      ],
      "metadata": {
        "id": "lSSI3CmoTB90"
      },
      "execution_count": null,
      "outputs": []
    },
    {
      "cell_type": "code",
      "source": [
        "# Recovered Image\n",
        "plt.imshow(Decoded_Matrix, interpolation='nearest')\n",
        "plt.show()"
      ],
      "metadata": {
        "id": "vXg5UZHOTB3a"
      },
      "execution_count": null,
      "outputs": []
    },
    {
      "cell_type": "markdown",
      "source": [
        "#7. MNIST Image Classification"
      ],
      "metadata": {
        "id": "DthfaJYwUcat"
      }
    },
    {
      "cell_type": "markdown",
      "source": [
        "1) Training Set / Validation Set Seperation"
      ],
      "metadata": {
        "id": "4xxB_xKUajTs"
      }
    },
    {
      "cell_type": "code",
      "source": [
        "from qiskit_ibm_runtime import QiskitRuntimeService, Estimator\n",
        "\n",
        "Train_Image = images_test[0:80]\n",
        "Validate_Image = images_test[80:]\n",
        "Train_Label = labels_test[0:80]\n",
        "Validate_Label = labels_test[80:]"
      ],
      "metadata": {
        "id": "KrSAKD3pUe5P"
      },
      "execution_count": null,
      "outputs": []
    },
    {
      "cell_type": "markdown",
      "source": [
        "2) Constructing Encoded Circuit List to decrease calculation"
      ],
      "metadata": {
        "id": "3BaDTfmi0BzU"
      }
    },
    {
      "cell_type": "code",
      "source": [
        "# test is numpy array\n",
        "def add_dummy(test):\n",
        "  # adding dummy pixels to make 32 X 32. Each row and columns 5 qubits.\n",
        "  max = np.max(test)\n",
        "  matrix = []\n",
        "  for i in range(28):\n",
        "    row = []\n",
        "    for j in range(28):\n",
        "      row.append(test[i][j]/max)\n",
        "    row.append(0)\n",
        "    row.append(0)\n",
        "    row.append(0)\n",
        "    row.append(0)\n",
        "    matrix.append(row)\n",
        "\n",
        "  matrix.append([0,0,0,0,0,0,0,0,0,0,0,0,0,0,0,0,0,0,0,0,0,0,0,0,0,0,0,0,0,0,0,0])\n",
        "  matrix.append([0,0,0,0,0,0,0,0,0,0,0,0,0,0,0,0,0,0,0,0,0,0,0,0,0,0,0,0,0,0,0,0])\n",
        "  matrix.append([0,0,0,0,0,0,0,0,0,0,0,0,0,0,0,0,0,0,0,0,0,0,0,0,0,0,0,0,0,0,0,0])\n",
        "  matrix.append([0,0,0,0,0,0,0,0,0,0,0,0,0,0,0,0,0,0,0,0,0,0,0,0,0,0,0,0,0,0,0,0])\n",
        "  return matrix"
      ],
      "metadata": {
        "id": "a9YdAzJEc8AQ"
      },
      "execution_count": null,
      "outputs": []
    },
    {
      "cell_type": "code",
      "source": [
        "def Binary(i):\n",
        "  num = []\n",
        "  num.append(i%2)\n",
        "  i = i//2\n",
        "  num.append(i%2)\n",
        "  i = i//2\n",
        "  num.append(i%2)\n",
        "  i = i//2\n",
        "  num.append(i%2)\n",
        "  i = i//2\n",
        "  num.append(i%2)\n",
        "\n",
        "  rot = []\n",
        "  for j in range(5):\n",
        "    rot.append(1-num[4-j])\n",
        "\n",
        "  return rot"
      ],
      "metadata": {
        "id": "hPvfHdr8dncx"
      },
      "execution_count": null,
      "outputs": []
    },
    {
      "cell_type": "code",
      "source": [
        "def controlled_ry(theta):\n",
        "  Rotate = QuantumCircuit(1)\n",
        "  Rotate.ry(theta, 0)\n",
        "  Ugate = Rotate.to_gate().control(1)\n",
        "  return Ugate"
      ],
      "metadata": {
        "id": "iB9vxihEhowf"
      },
      "execution_count": null,
      "outputs": []
    },
    {
      "cell_type": "code",
      "source": [
        "def circuit_after_encoding(matrix):\n",
        "    # State Encoding\n",
        "\n",
        "  Y_Qubits = QuantumRegister(5, 'y')\n",
        "  X_Qubits = QuantumRegister(5, 'x')\n",
        "  Probability_Qubit = QuantumRegister(1, 's')\n",
        "  Eleven_Qubits_Encoding = QuantumCircuit(Y_Qubits, X_Qubits, Probability_Qubit)\n",
        "\n",
        "  s = Probability_Qubit\n",
        "  y0, y1, y2, y3, y4 = Y_Qubits\n",
        "  x0, x1, x2, x3, x4 = X_Qubits\n",
        "\n",
        "  # Initial State\n",
        "  Eleven_Qubits_Encoding.h(y0)\n",
        "  Eleven_Qubits_Encoding.h(y1)\n",
        "  Eleven_Qubits_Encoding.h(y2)\n",
        "  Eleven_Qubits_Encoding.h(y3)\n",
        "  Eleven_Qubits_Encoding.h(y4)\n",
        "  Eleven_Qubits_Encoding.h(x0)\n",
        "  Eleven_Qubits_Encoding.h(x1)\n",
        "  Eleven_Qubits_Encoding.h(x2)\n",
        "  Eleven_Qubits_Encoding.h(x3)\n",
        "  Eleven_Qubits_Encoding.h(x4)\n",
        "\n",
        "  # Probability Qubit Rotating\n",
        "  for i in range(32):\n",
        "    for j in range(32):\n",
        "      Rotate = QuantumCircuit(1)\n",
        "      Rotate.rx(2*np.arcsin(np.sqrt(matrix[i][j])), 0)\n",
        "      Ugate = Rotate.to_gate().control(10)\n",
        "\n",
        "      y_rot = Binary(i)\n",
        "      x_rot = Binary(j)\n",
        "\n",
        "      if y_rot[0]:\n",
        "        Eleven_Qubits_Encoding.x(y0)\n",
        "      if y_rot[1]:\n",
        "        Eleven_Qubits_Encoding.x(y1)\n",
        "      if y_rot[2]:\n",
        "        Eleven_Qubits_Encoding.x(y2)\n",
        "      if y_rot[3]:\n",
        "        Eleven_Qubits_Encoding.x(y3)\n",
        "      if y_rot[4]:\n",
        "        Eleven_Qubits_Encoding.x(y4)\n",
        "      if x_rot[0]:\n",
        "        Eleven_Qubits_Encoding.x(x0)\n",
        "      if x_rot[1]:\n",
        "        Eleven_Qubits_Encoding.x(x1)\n",
        "      if x_rot[2]:\n",
        "        Eleven_Qubits_Encoding.x(x2)\n",
        "      if x_rot[3]:\n",
        "        Eleven_Qubits_Encoding.x(x3)\n",
        "      if x_rot[4]:\n",
        "        Eleven_Qubits_Encoding.x(x4)\n",
        "      Eleven_Qubits_Encoding.append(Ugate, [y0, y1, y2, y3, y4, x0, x1, x2, x3, x4, s])\n",
        "      if y_rot[0]:\n",
        "        Eleven_Qubits_Encoding.x(y0)\n",
        "      if y_rot[1]:\n",
        "        Eleven_Qubits_Encoding.x(y1)\n",
        "      if y_rot[2]:\n",
        "        Eleven_Qubits_Encoding.x(y2)\n",
        "      if y_rot[3]:\n",
        "        Eleven_Qubits_Encoding.x(y3)\n",
        "      if y_rot[4]:\n",
        "        Eleven_Qubits_Encoding.x(y4)\n",
        "      if x_rot[0]:\n",
        "        Eleven_Qubits_Encoding.x(x0)\n",
        "      if x_rot[1]:\n",
        "        Eleven_Qubits_Encoding.x(x1)\n",
        "      if x_rot[2]:\n",
        "        Eleven_Qubits_Encoding.x(x2)\n",
        "      if x_rot[3]:\n",
        "        Eleven_Qubits_Encoding.x(x3)\n",
        "      if x_rot[4]:\n",
        "        Eleven_Qubits_Encoding.x(x4)\n",
        "\n",
        "  VGate = Eleven_Qubits_Encoding.to_gate()\n",
        "  return VGate"
      ],
      "metadata": {
        "id": "l3OwnUNN1mnV"
      },
      "execution_count": null,
      "outputs": []
    },
    {
      "cell_type": "code",
      "source": [
        "Encoded_List = []\n",
        "for i in range(80):\n",
        "  Encoded_List.append(circuit_after_encoding(add_dummy(Train_Image[i])))"
      ],
      "metadata": {
        "id": "TXcD3blj2bgj"
      },
      "execution_count": null,
      "outputs": []
    },
    {
      "cell_type": "code",
      "source": [
        "print(Encoded_List)"
      ],
      "metadata": {
        "id": "A3TXI6ft4BjK"
      },
      "execution_count": null,
      "outputs": []
    },
    {
      "cell_type": "markdown",
      "source": [
        "3) Constructing Parametrized Circuit"
      ],
      "metadata": {
        "id": "9vFPkExy4nEv"
      }
    },
    {
      "cell_type": "code",
      "source": [
        "# test is nested list\n",
        "# 'single' is # of 6 parameter on single qubit rotation\n",
        "# 'entangle' is # of 6 parameter on two qubit entanglement.\n",
        "def ansatz_for_each_image(num, single, entangle, single_s, entangle_s):\n",
        "\n",
        "\n",
        "  # State Encoding\n",
        "\n",
        "  Y_Qubits = QuantumRegister(5, 'y')\n",
        "  X_Qubits = QuantumRegister(5, 'x')\n",
        "  Probability_Qubit = QuantumRegister(1, 's')\n",
        "  Classical_Register = ClassicalRegister(1, 'c')\n",
        "  Eleven_Qubits_Encoding = QuantumCircuit(Y_Qubits, X_Qubits, Probability_Qubit, Classical_Register)\n",
        "\n",
        "  s = Probability_Qubit\n",
        "  y0, y1, y2, y3, y4 = Y_Qubits\n",
        "  x0, x1, x2, x3, x4 = X_Qubits\n",
        "\n",
        "  # Start from Encoded State\n",
        "  Eleven_Qubits_Encoding.append(Encoded_List[num], [y0, y1, y2, y3, y4, x0, x1, x2, x3, x4, s])\n",
        "\n",
        "  # Parametrized Quantum Circuit\n",
        "\n",
        "  # Universal Hadamard Gate\n",
        "  Eleven_Qubits_Encoding.h(y0)\n",
        "  Eleven_Qubits_Encoding.h(y1)\n",
        "  Eleven_Qubits_Encoding.h(y2)\n",
        "  Eleven_Qubits_Encoding.h(y3)\n",
        "  Eleven_Qubits_Encoding.h(y4)\n",
        "  Eleven_Qubits_Encoding.h(x0)\n",
        "  Eleven_Qubits_Encoding.h(x1)\n",
        "  Eleven_Qubits_Encoding.h(x2)\n",
        "  Eleven_Qubits_Encoding.h(x3)\n",
        "  Eleven_Qubits_Encoding.h(x4)\n",
        "\n",
        "  # Single Qubit Rotation & Two Qubits Entanglement Chain\n",
        "  Eleven_Qubits_Encoding.append(controlled_ry(entangle), [y0, y1])\n",
        "  Eleven_Qubits_Encoding.rx(single, y0)\n",
        "  Eleven_Qubits_Encoding.append(CXGate(), [y0, y1])\n",
        "\n",
        "  Eleven_Qubits_Encoding.append(controlled_ry(entangle), [y1, y2])\n",
        "  Eleven_Qubits_Encoding.rx(single, y1)\n",
        "  Eleven_Qubits_Encoding.append(CXGate(), [y1, y2])\n",
        "\n",
        "  Eleven_Qubits_Encoding.append(controlled_ry(entangle), [y2, y3])\n",
        "  Eleven_Qubits_Encoding.rx(single, y2)\n",
        "  Eleven_Qubits_Encoding.append(CXGate(), [y2, y3])\n",
        "\n",
        "  Eleven_Qubits_Encoding.append(controlled_ry(entangle), [y3, y4])\n",
        "  Eleven_Qubits_Encoding.rx(single, y3)\n",
        "  Eleven_Qubits_Encoding.append(CXGate(), [y3, y4])\n",
        "\n",
        "  Eleven_Qubits_Encoding.append(controlled_ry(entangle), [y4, s])\n",
        "  Eleven_Qubits_Encoding.rx(single, y4)\n",
        "  Eleven_Qubits_Encoding.append(CXGate(), [y4, s])\n",
        "\n",
        "  Eleven_Qubits_Encoding.append(controlled_ry(entangle_s), [s, y0])\n",
        "  Eleven_Qubits_Encoding.rx(single_s, s)\n",
        "  Eleven_Qubits_Encoding.append(CXGate(), [s, y0])\n",
        "\n",
        "  Eleven_Qubits_Encoding.append(controlled_ry(entangle), [x0, x1])\n",
        "  Eleven_Qubits_Encoding.rx(single, x0)\n",
        "  Eleven_Qubits_Encoding.append(CXGate(), [x0, x1])\n",
        "\n",
        "  Eleven_Qubits_Encoding.append(controlled_ry(entangle), [x1, x2])\n",
        "  Eleven_Qubits_Encoding.rx(single, x1)\n",
        "  Eleven_Qubits_Encoding.append(CXGate(), [x1, x2])\n",
        "\n",
        "  Eleven_Qubits_Encoding.append(controlled_ry(entangle), [x2, x3])\n",
        "  Eleven_Qubits_Encoding.rx(single, x2)\n",
        "  Eleven_Qubits_Encoding.append(CXGate(), [x2, x3])\n",
        "\n",
        "  Eleven_Qubits_Encoding.append(controlled_ry(entangle), [x3, x4])\n",
        "  Eleven_Qubits_Encoding.rx(single, x3)\n",
        "  Eleven_Qubits_Encoding.append(CXGate(), [x3, x4])\n",
        "\n",
        "  Eleven_Qubits_Encoding.append(controlled_ry(entangle), [x4, s])\n",
        "  Eleven_Qubits_Encoding.rx(single, x4)\n",
        "  Eleven_Qubits_Encoding.append(CXGate(), [x4, s])\n",
        "\n",
        "  Eleven_Qubits_Encoding.append(controlled_ry(entangle_s), [s, x0])\n",
        "  Eleven_Qubits_Encoding.rx(single_s, s)\n",
        "  Eleven_Qubits_Encoding.append(CXGate(), [s, x0])\n",
        "\n",
        "  Eleven_Qubits_Encoding.barrier()\n",
        "\n",
        "  # Universal Hadamard Gate\n",
        "  Eleven_Qubits_Encoding.h(y0)\n",
        "  Eleven_Qubits_Encoding.h(y1)\n",
        "  Eleven_Qubits_Encoding.h(y2)\n",
        "  Eleven_Qubits_Encoding.h(y3)\n",
        "  Eleven_Qubits_Encoding.h(y4)\n",
        "  Eleven_Qubits_Encoding.h(x0)\n",
        "  Eleven_Qubits_Encoding.h(x1)\n",
        "  Eleven_Qubits_Encoding.h(x2)\n",
        "  Eleven_Qubits_Encoding.h(x3)\n",
        "  Eleven_Qubits_Encoding.h(x4)\n",
        "\n",
        "  # Single Qubit Rotation & Two Qubits Entanglement Chain\n",
        "  Eleven_Qubits_Encoding.append(controlled_ry(entangle), [y0, y1])\n",
        "  Eleven_Qubits_Encoding.rx(single, y0)\n",
        "  Eleven_Qubits_Encoding.append(CXGate(), [y0, y1])\n",
        "\n",
        "  Eleven_Qubits_Encoding.append(controlled_ry(entangle), [y1, y2])\n",
        "  Eleven_Qubits_Encoding.rx(single, y1)\n",
        "  Eleven_Qubits_Encoding.append(CXGate(), [y1, y2])\n",
        "\n",
        "  Eleven_Qubits_Encoding.append(controlled_ry(entangle), [y2, y3])\n",
        "  Eleven_Qubits_Encoding.rx(single, y2)\n",
        "  Eleven_Qubits_Encoding.append(CXGate(), [y2, y3])\n",
        "\n",
        "  Eleven_Qubits_Encoding.append(controlled_ry(entangle), [y3, y4])\n",
        "  Eleven_Qubits_Encoding.rx(single, y3)\n",
        "  Eleven_Qubits_Encoding.append(CXGate(), [y3, y4])\n",
        "\n",
        "  Eleven_Qubits_Encoding.append(controlled_ry(entangle), [y4, s])\n",
        "  Eleven_Qubits_Encoding.rx(single, y4)\n",
        "  Eleven_Qubits_Encoding.append(CXGate(), [y4, s])\n",
        "\n",
        "  Eleven_Qubits_Encoding.append(controlled_ry(entangle), [x0, x1])\n",
        "  Eleven_Qubits_Encoding.rx(single, x0)\n",
        "  Eleven_Qubits_Encoding.append(CXGate(), [x0, x1])\n",
        "\n",
        "  Eleven_Qubits_Encoding.append(controlled_ry(entangle), [x1, x2])\n",
        "  Eleven_Qubits_Encoding.rx(single, x1)\n",
        "  Eleven_Qubits_Encoding.append(CXGate(), [x1, x2])\n",
        "\n",
        "  Eleven_Qubits_Encoding.append(controlled_ry(entangle), [x2, x3])\n",
        "  Eleven_Qubits_Encoding.rx(single, x2)\n",
        "  Eleven_Qubits_Encoding.append(CXGate(), [x2, x3])\n",
        "\n",
        "  Eleven_Qubits_Encoding.append(controlled_ry(entangle), [x3, x4])\n",
        "  Eleven_Qubits_Encoding.rx(single, x3)\n",
        "  Eleven_Qubits_Encoding.append(CXGate(), [x3, x4])\n",
        "\n",
        "  Eleven_Qubits_Encoding.append(controlled_ry(entangle), [x4, s])\n",
        "  Eleven_Qubits_Encoding.rx(single, x4)\n",
        "  Eleven_Qubits_Encoding.append(CXGate(), [x4, s])\n",
        "\n",
        "\n",
        "  # Measurement\n",
        "  Probability_List = []\n",
        "  Eleven_Qubits_Encoding.measure(10, 0)\n",
        "\n",
        "  # Probability of measuring 0, 1 on ith qubit\n",
        "  job = sampler.run(Eight_Qubits_Encoding, shots=100000)\n",
        "  result = job.result()\n",
        "\n",
        "  counts = dict(result.quasi_dists[0])\n",
        "  for i in range(2):\n",
        "    if counts.get(i) == None:\n",
        "      Probability_List.append(0)\n",
        "    else:\n",
        "      Probability_List.append(counts.get(i))\n",
        "\n",
        "  # Determinant\n",
        "  return (Probability_List[0] > Probability_List[1])\n"
      ],
      "metadata": {
        "id": "UHHv-9ZdUgFU"
      },
      "execution_count": null,
      "outputs": []
    },
    {
      "cell_type": "markdown",
      "source": [
        "4) Cost Function : # of coincidence between label and\n",
        "\n",
        "probability differnece of 0 and 1 of 1 qubit"
      ],
      "metadata": {
        "id": "Ij5gtJBl0KL4"
      }
    },
    {
      "cell_type": "code",
      "source": [
        "def cost_function(Train_Image, Train_Label, single, entangle, single_s, entangle_s):\n",
        "  cnt = 0\n",
        "  for i in range(80):\n",
        "    if ansatz_for_each_image(i, single, entangle, single_s, entangle_s) == Train_Label[i]:\n",
        "      cnt = cnt + 1\n",
        "\n",
        "  return cnt"
      ],
      "metadata": {
        "id": "IFe94C6jUgAM"
      },
      "execution_count": null,
      "outputs": []
    },
    {
      "cell_type": "code",
      "source": [
        "standard = cost_function(Train_Image, Train_Label, 0, 0, 0, 0)\n",
        "print(cost_function(Train_Image, Train_Label, 0, 0, 0, 0))"
      ],
      "metadata": {
        "id": "AJfCu31u8FKO"
      },
      "execution_count": null,
      "outputs": []
    },
    {
      "cell_type": "markdown",
      "source": [
        "5) Training 1st Step : Investigating cost function of some parameters,\n",
        "\n",
        "investigation is not concentrated on some specified parameters,\n",
        "\n",
        "uniformly spreaded on bloch sphere."
      ],
      "metadata": {
        "id": "Ka72m-SI0yWC"
      }
    },
    {
      "cell_type": "code",
      "source": [
        "opt_single = 0\n",
        "opt_entangle = 0\n",
        "opt_single_s = 0\n",
        "opt_entangle_s = 0\n",
        "\n",
        "opt = standard\n",
        "\n",
        "for a in range(12):\n",
        "  for b in range(12):\n",
        "    for c in range(12):\n",
        "      for d in range(12):\n",
        "        single = np.pi()*a/12\n",
        "        entangle = np.pi()*b/12\n",
        "        single_s = np.pi()*c/12\n",
        "        entangle_s = np.pi()*d/12\n",
        "        new = cost_function(Train_Image, Train_Label, single, entangle, single_s, entangle_s)\n",
        "\n",
        "        if new > opt:\n",
        "          opt_single = single\n",
        "          opt_entangle = entangle\n",
        "          opt_single_s = single_s\n",
        "          opt_entangle_s = entangle_s\n",
        "          opt = new"
      ],
      "metadata": {
        "id": "QWDF12-0Ufgr"
      },
      "execution_count": null,
      "outputs": []
    },
    {
      "cell_type": "markdown",
      "source": [
        "6) Training 2nd Step : Investigate Cost Function near optimized parameter point of 1st step."
      ],
      "metadata": {
        "id": "5e-CG9_49xww"
      }
    }
  ]
}